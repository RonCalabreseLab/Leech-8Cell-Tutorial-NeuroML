{
 "cells": [
  {
   "cell_type": "markdown",
   "metadata": {
    "id": "reoR3oLGEzj-"
   },
   "source": [
    "# Interactive single compartment HH example"
   ]
  },
  {
   "cell_type": "code",
   "execution_count": 1,
   "metadata": {
    "colab": {
     "base_uri": "https://localhost:8080/",
     "height": 852
    },
    "executionInfo": {
     "elapsed": 13961,
     "status": "ok",
     "timestamp": 1628700318521,
     "user": {
      "displayName": "Cengiz Gunay",
      "photoUrl": "https://lh3.googleusercontent.com/a-/AOh14GiPE5H5Z61_cACkrHUJ9chr9XnDNRA0kluXAQmHKlg=s64",
      "userId": "04998639454012606716"
     },
     "user_tz": 240
    },
    "id": "tumYL6_3Ezj_",
    "outputId": "6a63d5a4-7bad-43a8-8d07-cea25ff99273"
   },
   "outputs": [
    {
     "name": "stdout",
     "output_type": "stream",
     "text": [
      "Requirement already satisfied: pyneuroml in c:\\users\\oced\\appdata\\local\\programs\\python\\python39\\lib\\site-packages (0.5.11)"
     ]
    },
    {
     "name": "stderr",
     "output_type": "stream",
     "text": [
      "WARNING: You are using pip version 21.1.1; however, version 21.2.4 is available.\n",
      "You should consider upgrading via the 'c:\\users\\oced\\appdata\\local\\programs\\python\\python39\\python.exe -m pip install --upgrade pip' command.\n"
     ]
    },
    {
     "name": "stdout",
     "output_type": "stream",
     "text": [
      "\n",
      "Requirement already satisfied: pylems>=0.5.0 in c:\\users\\oced\\appdata\\local\\programs\\python\\python39\\lib\\site-packages (from pyneuroml) (0.5.2)\n",
      "Requirement already satisfied: airspeed>=0.5.5 in c:\\users\\oced\\appdata\\local\\programs\\python\\python39\\lib\\site-packages (from pyneuroml) (0.5.17)\n",
      "Collecting argparse\n",
      "  Using cached argparse-1.4.0-py2.py3-none-any.whl (23 kB)\n",
      "Requirement already satisfied: matplotlib in c:\\users\\oced\\appdata\\local\\programs\\python\\python39\\lib\\site-packages (from pyneuroml) (3.4.2)\n",
      "Requirement already satisfied: graphviz in c:\\users\\oced\\appdata\\local\\programs\\python\\python39\\lib\\site-packages (from pyneuroml) (0.16)\n",
      "Requirement already satisfied: libNeuroML>=0.2.52 in c:\\users\\oced\\appdata\\local\\programs\\python\\python39\\lib\\site-packages (from pyneuroml) (0.2.55)\n",
      "Requirement already satisfied: neuromllite>=0.2.2 in c:\\users\\oced\\appdata\\local\\programs\\python\\python39\\lib\\site-packages (from pyneuroml) (0.3.2)\n",
      "Requirement already satisfied: six in c:\\users\\oced\\appdata\\local\\programs\\python\\python39\\lib\\site-packages (from airspeed>=0.5.5->pyneuroml) (1.16.0)\n",
      "Requirement already satisfied: cachetools in c:\\users\\oced\\appdata\\local\\programs\\python\\python39\\lib\\site-packages (from airspeed>=0.5.5->pyneuroml) (4.2.2)\n",
      "Requirement already satisfied: lxml in c:\\users\\oced\\appdata\\local\\programs\\python\\python39\\lib\\site-packages (from libNeuroML>=0.2.52->pyneuroml) (4.6.3)\n",
      "Requirement already satisfied: numpy in c:\\users\\oced\\appdata\\local\\programs\\python\\python39\\lib\\site-packages (from neuromllite>=0.2.2->pyneuroml) (1.20.3)\n",
      "Requirement already satisfied: pyyaml in c:\\users\\oced\\appdata\\local\\programs\\python\\python39\\lib\\site-packages (from neuromllite>=0.2.2->pyneuroml) (5.4.1)\n",
      "Requirement already satisfied: kiwisolver>=1.0.1 in c:\\users\\oced\\appdata\\local\\programs\\python\\python39\\lib\\site-packages (from matplotlib->pyneuroml) (1.3.1)\n",
      "Requirement already satisfied: cycler>=0.10 in c:\\users\\oced\\appdata\\local\\programs\\python\\python39\\lib\\site-packages (from matplotlib->pyneuroml) (0.10.0)\n",
      "Requirement already satisfied: python-dateutil>=2.7 in c:\\users\\oced\\appdata\\local\\programs\\python\\python39\\lib\\site-packages (from matplotlib->pyneuroml) (2.8.1)\n",
      "Requirement already satisfied: pyparsing>=2.2.1 in c:\\users\\oced\\appdata\\local\\programs\\python\\python39\\lib\\site-packages (from matplotlib->pyneuroml) (2.4.7)\n",
      "Requirement already satisfied: pillow>=6.2.0 in c:\\users\\oced\\appdata\\local\\programs\\python\\python39\\lib\\site-packages (from matplotlib->pyneuroml) (8.2.0)\n",
      "Installing collected packages: argparse\n",
      "Successfully installed argparse-1.4.0\n"
     ]
    },
    {
     "name": "stderr",
     "output_type": "stream",
     "text": [
      "WARNING: You are using pip version 21.1.1; however, version 21.2.4 is available.\n",
      "You should consider upgrading via the 'c:\\users\\oced\\appdata\\local\\programs\\python\\python39\\python.exe -m pip install --upgrade pip' command.\n"
     ]
    },
    {
     "name": "stdout",
     "output_type": "stream",
     "text": [
      "Requirement already satisfied: libneuroml in c:\\users\\oced\\appdata\\local\\programs\\python\\python39\\lib\\site-packages (0.2.55)\n",
      "Requirement already satisfied: lxml in c:\\users\\oced\\appdata\\local\\programs\\python\\python39\\lib\\site-packages (from libneuroml) (4.6.3)\n",
      "Requirement already satisfied: six in c:\\users\\oced\\appdata\\local\\programs\\python\\python39\\lib\\site-packages (from libneuroml) (1.16.0)\n"
     ]
    }
   ],
   "source": [
    "!pip install pyneuroml\n",
    "!pip install libneuroml\n",
    "import math\n",
    "from neuroml import NeuroMLDocument\n",
    "from neuroml import Cell\n",
    "from neuroml import IonChannelHH\n",
    "from neuroml import GateHHRates\n",
    "from neuroml import BiophysicalProperties\n",
    "from neuroml import MembraneProperties\n",
    "from neuroml import ChannelDensity\n",
    "from neuroml import HHRate\n",
    "from neuroml import SpikeThresh\n",
    "from neuroml import SpecificCapacitance\n",
    "from neuroml import InitMembPotential\n",
    "from neuroml import IntracellularProperties\n",
    "from neuroml import IncludeType\n",
    "from neuroml import Resistivity\n",
    "from neuroml import Morphology, Segment, Point3DWithDiam\n",
    "from neuroml import Network, Population\n",
    "from neuroml import PulseGenerator, ExplicitInput\n",
    "import numpy as np\n",
    "from pyneuroml import pynml\n",
    "from pyneuroml.lems import LEMSSimulation"
   ]
  },
  {
   "cell_type": "markdown",
   "metadata": {
    "id": "6n_-S-HOEzkF"
   },
   "source": [
    "## Cell 1 \n",
    "\n",
    "Create the simulation, run it, record data, and plot the recorded information."
   ]
  },
  {
   "cell_type": "code",
   "execution_count": 7,
   "metadata": {
    "colab": {
     "base_uri": "https://localhost:8080/",
     "height": 1000
    },
    "executionInfo": {
     "elapsed": 670,
     "status": "error",
     "timestamp": 1628130917082,
     "user": {
      "displayName": "Psyogi Soma",
      "photoUrl": "https://lh3.googleusercontent.com/a-/AOh14GihHp5etl6xiuwyfZ4fKVV7hcr-YYivwPoTQzza=s64",
      "userId": "01061314343285723513"
     },
     "user_tz": 240
    },
    "id": "N-T_-fxHEzkF",
    "outputId": "9c943c05-4895-4bf1-f6a7-cb3b2b61176e",
    "scrolled": true
   },
   "outputs": [
    {
     "name": "stdout",
     "output_type": "stream",
     "text": [
      "pyNeuroML >>> Written LEMS Simulation hn1 to file: LEMS_hn1.xml\n",
      "pyNeuroML >>> *** Problem running command: \n",
      "pyNeuroML >>>        Command 'java -Xmx2G  -jar  \"C:\\Users\\Oced\\AppData\\Local\\Programs\\Python\\Python39\\Lib\\site-packages\\pyneuroml\\lib\\jNeuroML-0.10.3-jar-with-dependencies.jar\"  \"LEMS_hn1.xml\"  -nogui -I ''' returned non-zero exit status 1.\n",
      "pyNeuroML >>>  jNeuroML >>   jNeuroML v0.10.3\n",
      "pyNeuroML >>>  jNeuroML >>  Loading: C:\\Users\\Oced\\Documents\\GSoC\\data\\Leech-8Cell-Tutorial-NeuroML\\NeuroML2\\isolated_cells_graph\\Notebook\\LEMS_hn1.xml with jLEMS, NO GUI mode...\n",
      "pyNeuroML >>>  jNeuroML >>  INFO Aug 12,2021 16:21  (INFO) Loading LEMS file from: C:\\Users\\Oced\\Documents\\GSoC\\data\\Leech-8Cell-Tutorial-NeuroML\\NeuroML2\\isolated_cells_graph\\Notebook\\LEMS_hn1.xml\n",
      "pyNeuroML >>>  jNeuroML >>  INFO Aug 12,2021 16:21  (INFO) Reading from: C:\\Users\\Oced\\Documents\\GSoC\\data\\Leech-8Cell-Tutorial-NeuroML\\NeuroML2\\isolated_cells_graph\\Notebook\\LEMS_hn1.xml\n",
      "pyNeuroML >>>  jNeuroML >>  \n",
      "pyNeuroML >>> Error: execute_command_in_dir returned with output: None\n"
     ]
    },
    {
     "ename": "SystemExit",
     "evalue": "-1",
     "output_type": "error",
     "traceback": [
      "An exception has occurred, use %tb to see the full traceback.\n",
      "\u001b[1;31mSystemExit\u001b[0m\u001b[1;31m:\u001b[0m -1\n"
     ]
    },
    {
     "name": "stderr",
     "output_type": "stream",
     "text": [
      "c:\\users\\oced\\appdata\\local\\programs\\python\\python39\\lib\\site-packages\\IPython\\core\\interactiveshell.py:3449: UserWarning: To exit: use 'exit', 'quit', or Ctrl-D.\n",
      "  warn(\"To exit: use 'exit', 'quit', or Ctrl-D.\", stacklevel=1)\n"
     ]
    }
   ],
   "source": [
    "# Simulation bits\n",
    "sim_id = \"hn1\"\n",
    "simulation = LEMSSimulation(sim_id=sim_id, duration=1000, dt=0.01, simulation_seed=123)\n",
    "\n",
    "# Include the NeuroML model file\n",
    "simulation.include_neuroml2_file(\"../../network.iso.cell1.nml\")\n",
    "\n",
    "# Assign target for the simulation\n",
    "simulation.assign_simulation_target(\"net_1\")\n",
    "\n",
    "# Recording information from the simulation\n",
    "simulation.create_output_file(id=\"output0\", file_name=sim_id + \".dat\")\n",
    "simulation.add_column_to_output_file(\"output0\", column_id=\"v1L\", quantity=\"hn1L_pop[0]/v\")\n",
    "\n",
    "# Save LEMS simulation to file\n",
    "sim_file = simulation.save_to_file()\n",
    "\n",
    "# Run the simulation using the default jNeuroML simulator\n",
    "pynml.run_lems_with_jneuroml(sim_file, max_memory=\"2G\", nogui=True, plot=False)"
   ]
  },
  {
   "cell_type": "markdown",
   "metadata": {},
   "source": [
    "## Plot the data for Cell 1\n",
    "plots membrane potential and channel actions "
   ]
  },
  {
   "cell_type": "code",
   "execution_count": 8,
   "metadata": {
    "scrolled": false
   },
   "outputs": [
    {
     "ename": "OSError",
     "evalue": "hn1.dat not found.",
     "output_type": "error",
     "traceback": [
      "\u001b[1;31m---------------------------------------------------------------------------\u001b[0m",
      "\u001b[1;31mOSError\u001b[0m                                   Traceback (most recent call last)",
      "\u001b[1;32m~\\AppData\\Local\\Temp/ipykernel_17328/3207654644.py\u001b[0m in \u001b[0;36m<module>\u001b[1;34m\u001b[0m\n\u001b[0;32m      1\u001b[0m \u001b[1;31m# Plot the data\u001b[0m\u001b[1;33m\u001b[0m\u001b[1;33m\u001b[0m\u001b[1;33m\u001b[0m\u001b[0m\n\u001b[1;32m----> 2\u001b[1;33m \u001b[0mdata_array\u001b[0m \u001b[1;33m=\u001b[0m \u001b[0mnp\u001b[0m\u001b[1;33m.\u001b[0m\u001b[0mloadtxt\u001b[0m\u001b[1;33m(\u001b[0m\u001b[0msim_id\u001b[0m \u001b[1;33m+\u001b[0m \u001b[1;34m\".dat\"\u001b[0m\u001b[1;33m)\u001b[0m\u001b[1;33m\u001b[0m\u001b[1;33m\u001b[0m\u001b[0m\n\u001b[0m\u001b[0;32m      3\u001b[0m \u001b[0mpynml\u001b[0m\u001b[1;33m.\u001b[0m\u001b[0mgenerate_plot\u001b[0m\u001b[1;33m(\u001b[0m\u001b[1;33m[\u001b[0m\u001b[0mdata_array\u001b[0m\u001b[1;33m[\u001b[0m\u001b[1;33m:\u001b[0m\u001b[1;33m,\u001b[0m \u001b[1;36m0\u001b[0m\u001b[1;33m]\u001b[0m\u001b[1;33m]\u001b[0m\u001b[1;33m,\u001b[0m \u001b[1;33m[\u001b[0m\u001b[0mdata_array\u001b[0m\u001b[1;33m[\u001b[0m\u001b[1;33m:\u001b[0m\u001b[1;33m,\u001b[0m \u001b[1;36m1\u001b[0m\u001b[1;33m]\u001b[0m\u001b[1;33m]\u001b[0m\u001b[1;33m,\u001b[0m \u001b[1;34m\"Membrane potential\"\u001b[0m\u001b[1;33m,\u001b[0m \u001b[0mshow_plot_already\u001b[0m\u001b[1;33m=\u001b[0m\u001b[1;32mFalse\u001b[0m\u001b[1;33m,\u001b[0m \u001b[0msave_figure_to\u001b[0m\u001b[1;33m=\u001b[0m\u001b[0msim_id\u001b[0m \u001b[1;33m+\u001b[0m \u001b[1;34m\"-v.png\"\u001b[0m\u001b[1;33m,\u001b[0m \u001b[0mxaxis\u001b[0m\u001b[1;33m=\u001b[0m\u001b[1;34m\"time (s)\"\u001b[0m\u001b[1;33m,\u001b[0m \u001b[0myaxis\u001b[0m\u001b[1;33m=\u001b[0m\u001b[1;34m\"membrane potential (V)\"\u001b[0m\u001b[1;33m)\u001b[0m\u001b[1;33m\u001b[0m\u001b[1;33m\u001b[0m\u001b[0m\n\u001b[0;32m      4\u001b[0m \u001b[0mpynml\u001b[0m\u001b[1;33m.\u001b[0m\u001b[0mgenerate_plot\u001b[0m\u001b[1;33m(\u001b[0m\u001b[1;33m[\u001b[0m\u001b[0mdata_array\u001b[0m\u001b[1;33m[\u001b[0m\u001b[1;33m:\u001b[0m\u001b[1;33m,\u001b[0m \u001b[1;36m0\u001b[0m\u001b[1;33m]\u001b[0m\u001b[1;33m]\u001b[0m\u001b[1;33m,\u001b[0m \u001b[1;33m[\u001b[0m\u001b[0mdata_array\u001b[0m\u001b[1;33m[\u001b[0m\u001b[1;33m:\u001b[0m\u001b[1;33m,\u001b[0m \u001b[1;36m2\u001b[0m\u001b[1;33m]\u001b[0m\u001b[1;33m]\u001b[0m\u001b[1;33m,\u001b[0m \u001b[1;34m\"channel current\"\u001b[0m\u001b[1;33m,\u001b[0m \u001b[0mshow_plot_already\u001b[0m\u001b[1;33m=\u001b[0m\u001b[1;32mFalse\u001b[0m\u001b[1;33m,\u001b[0m \u001b[0msave_figure_to\u001b[0m\u001b[1;33m=\u001b[0m\u001b[0msim_id\u001b[0m \u001b[1;33m+\u001b[0m \u001b[1;34m\"-i.png\"\u001b[0m\u001b[1;33m,\u001b[0m \u001b[0mxaxis\u001b[0m\u001b[1;33m=\u001b[0m\u001b[1;34m\"time (s)\"\u001b[0m\u001b[1;33m,\u001b[0m \u001b[0myaxis\u001b[0m\u001b[1;33m=\u001b[0m\u001b[1;34m\"channel current (A)\"\u001b[0m\u001b[1;33m)\u001b[0m\u001b[1;33m\u001b[0m\u001b[1;33m\u001b[0m\u001b[0m\n\u001b[0;32m      5\u001b[0m \u001b[0mpynml\u001b[0m\u001b[1;33m.\u001b[0m\u001b[0mgenerate_plot\u001b[0m\u001b[1;33m(\u001b[0m\u001b[1;33m[\u001b[0m\u001b[0mdata_array\u001b[0m\u001b[1;33m[\u001b[0m\u001b[1;33m:\u001b[0m\u001b[1;33m,\u001b[0m \u001b[1;36m0\u001b[0m\u001b[1;33m]\u001b[0m\u001b[1;33m,\u001b[0m \u001b[0mdata_array\u001b[0m\u001b[1;33m[\u001b[0m\u001b[1;33m:\u001b[0m\u001b[1;33m,\u001b[0m \u001b[1;36m0\u001b[0m\u001b[1;33m]\u001b[0m\u001b[1;33m]\u001b[0m\u001b[1;33m,\u001b[0m \u001b[1;33m[\u001b[0m\u001b[0mdata_array\u001b[0m\u001b[1;33m[\u001b[0m\u001b[1;33m:\u001b[0m\u001b[1;33m,\u001b[0m \u001b[1;36m3\u001b[0m\u001b[1;33m]\u001b[0m\u001b[1;33m,\u001b[0m \u001b[0mdata_array\u001b[0m\u001b[1;33m[\u001b[0m\u001b[1;33m:\u001b[0m\u001b[1;33m,\u001b[0m \u001b[1;36m4\u001b[0m\u001b[1;33m]\u001b[0m\u001b[1;33m]\u001b[0m\u001b[1;33m,\u001b[0m \u001b[1;34m\"current density\"\u001b[0m\u001b[1;33m,\u001b[0m \u001b[0mlabels\u001b[0m\u001b[1;33m=\u001b[0m\u001b[1;33m[\u001b[0m\u001b[1;34m\"Na\"\u001b[0m\u001b[1;33m,\u001b[0m \u001b[1;34m\"K1\"\u001b[0m\u001b[1;33m,\u001b[0m \u001b[1;34m\"K2\"\u001b[0m\u001b[1;33m]\u001b[0m\u001b[1;33m,\u001b[0m \u001b[0mshow_plot_already\u001b[0m\u001b[1;33m=\u001b[0m\u001b[1;32mFalse\u001b[0m\u001b[1;33m,\u001b[0m \u001b[0msave_figure_to\u001b[0m\u001b[1;33m=\u001b[0m\u001b[0msim_id\u001b[0m \u001b[1;33m+\u001b[0m \u001b[1;34m\"-iden.png\"\u001b[0m\u001b[1;33m,\u001b[0m \u001b[0mxaxis\u001b[0m\u001b[1;33m=\u001b[0m\u001b[1;34m\"time (s)\"\u001b[0m\u001b[1;33m,\u001b[0m \u001b[0myaxis\u001b[0m\u001b[1;33m=\u001b[0m\u001b[1;34m\"current density (A_per_m2)\"\u001b[0m\u001b[1;33m)\u001b[0m\u001b[1;33m\u001b[0m\u001b[1;33m\u001b[0m\u001b[0m\n",
      "\u001b[1;32mc:\\users\\oced\\appdata\\local\\programs\\python\\python39\\lib\\site-packages\\numpy\\lib\\npyio.py\u001b[0m in \u001b[0;36mloadtxt\u001b[1;34m(fname, dtype, comments, delimiter, converters, skiprows, usecols, unpack, ndmin, encoding, max_rows, like)\u001b[0m\n\u001b[0;32m   1063\u001b[0m             \u001b[0mfname\u001b[0m \u001b[1;33m=\u001b[0m \u001b[0mos_fspath\u001b[0m\u001b[1;33m(\u001b[0m\u001b[0mfname\u001b[0m\u001b[1;33m)\u001b[0m\u001b[1;33m\u001b[0m\u001b[1;33m\u001b[0m\u001b[0m\n\u001b[0;32m   1064\u001b[0m         \u001b[1;32mif\u001b[0m \u001b[0m_is_string_like\u001b[0m\u001b[1;33m(\u001b[0m\u001b[0mfname\u001b[0m\u001b[1;33m)\u001b[0m\u001b[1;33m:\u001b[0m\u001b[1;33m\u001b[0m\u001b[1;33m\u001b[0m\u001b[0m\n\u001b[1;32m-> 1065\u001b[1;33m             \u001b[0mfh\u001b[0m \u001b[1;33m=\u001b[0m \u001b[0mnp\u001b[0m\u001b[1;33m.\u001b[0m\u001b[0mlib\u001b[0m\u001b[1;33m.\u001b[0m\u001b[0m_datasource\u001b[0m\u001b[1;33m.\u001b[0m\u001b[0mopen\u001b[0m\u001b[1;33m(\u001b[0m\u001b[0mfname\u001b[0m\u001b[1;33m,\u001b[0m \u001b[1;34m'rt'\u001b[0m\u001b[1;33m,\u001b[0m \u001b[0mencoding\u001b[0m\u001b[1;33m=\u001b[0m\u001b[0mencoding\u001b[0m\u001b[1;33m)\u001b[0m\u001b[1;33m\u001b[0m\u001b[1;33m\u001b[0m\u001b[0m\n\u001b[0m\u001b[0;32m   1066\u001b[0m             \u001b[0mfencoding\u001b[0m \u001b[1;33m=\u001b[0m \u001b[0mgetattr\u001b[0m\u001b[1;33m(\u001b[0m\u001b[0mfh\u001b[0m\u001b[1;33m,\u001b[0m \u001b[1;34m'encoding'\u001b[0m\u001b[1;33m,\u001b[0m \u001b[1;34m'latin1'\u001b[0m\u001b[1;33m)\u001b[0m\u001b[1;33m\u001b[0m\u001b[1;33m\u001b[0m\u001b[0m\n\u001b[0;32m   1067\u001b[0m             \u001b[0mfh\u001b[0m \u001b[1;33m=\u001b[0m \u001b[0miter\u001b[0m\u001b[1;33m(\u001b[0m\u001b[0mfh\u001b[0m\u001b[1;33m)\u001b[0m\u001b[1;33m\u001b[0m\u001b[1;33m\u001b[0m\u001b[0m\n",
      "\u001b[1;32mc:\\users\\oced\\appdata\\local\\programs\\python\\python39\\lib\\site-packages\\numpy\\lib\\_datasource.py\u001b[0m in \u001b[0;36mopen\u001b[1;34m(path, mode, destpath, encoding, newline)\u001b[0m\n\u001b[0;32m    192\u001b[0m \u001b[1;33m\u001b[0m\u001b[0m\n\u001b[0;32m    193\u001b[0m     \u001b[0mds\u001b[0m \u001b[1;33m=\u001b[0m \u001b[0mDataSource\u001b[0m\u001b[1;33m(\u001b[0m\u001b[0mdestpath\u001b[0m\u001b[1;33m)\u001b[0m\u001b[1;33m\u001b[0m\u001b[1;33m\u001b[0m\u001b[0m\n\u001b[1;32m--> 194\u001b[1;33m     \u001b[1;32mreturn\u001b[0m \u001b[0mds\u001b[0m\u001b[1;33m.\u001b[0m\u001b[0mopen\u001b[0m\u001b[1;33m(\u001b[0m\u001b[0mpath\u001b[0m\u001b[1;33m,\u001b[0m \u001b[0mmode\u001b[0m\u001b[1;33m,\u001b[0m \u001b[0mencoding\u001b[0m\u001b[1;33m=\u001b[0m\u001b[0mencoding\u001b[0m\u001b[1;33m,\u001b[0m \u001b[0mnewline\u001b[0m\u001b[1;33m=\u001b[0m\u001b[0mnewline\u001b[0m\u001b[1;33m)\u001b[0m\u001b[1;33m\u001b[0m\u001b[1;33m\u001b[0m\u001b[0m\n\u001b[0m\u001b[0;32m    195\u001b[0m \u001b[1;33m\u001b[0m\u001b[0m\n\u001b[0;32m    196\u001b[0m \u001b[1;33m\u001b[0m\u001b[0m\n",
      "\u001b[1;32mc:\\users\\oced\\appdata\\local\\programs\\python\\python39\\lib\\site-packages\\numpy\\lib\\_datasource.py\u001b[0m in \u001b[0;36mopen\u001b[1;34m(self, path, mode, encoding, newline)\u001b[0m\n\u001b[0;32m    529\u001b[0m                                       encoding=encoding, newline=newline)\n\u001b[0;32m    530\u001b[0m         \u001b[1;32melse\u001b[0m\u001b[1;33m:\u001b[0m\u001b[1;33m\u001b[0m\u001b[1;33m\u001b[0m\u001b[0m\n\u001b[1;32m--> 531\u001b[1;33m             \u001b[1;32mraise\u001b[0m \u001b[0mIOError\u001b[0m\u001b[1;33m(\u001b[0m\u001b[1;34m\"%s not found.\"\u001b[0m \u001b[1;33m%\u001b[0m \u001b[0mpath\u001b[0m\u001b[1;33m)\u001b[0m\u001b[1;33m\u001b[0m\u001b[1;33m\u001b[0m\u001b[0m\n\u001b[0m\u001b[0;32m    532\u001b[0m \u001b[1;33m\u001b[0m\u001b[0m\n\u001b[0;32m    533\u001b[0m \u001b[1;33m\u001b[0m\u001b[0m\n",
      "\u001b[1;31mOSError\u001b[0m: hn1.dat not found."
     ]
    }
   ],
   "source": [
    "# Plot the data\n",
    "data_array = np.loadtxt(sim_id + \".dat\")\n",
    "pynml.generate_plot([data_array[:, 0]], [data_array[:, 1]], \"Membrane potential\", show_plot_already=False, save_figure_to=sim_id + \"-v.png\", xaxis=\"time (s)\", yaxis=\"membrane potential (V)\")\n",
    "pynml.generate_plot([data_array[:, 0]], [data_array[:, 2]], \"channel current\", show_plot_already=False, save_figure_to=sim_id + \"-i.png\", xaxis=\"time (s)\", yaxis=\"channel current (A)\")\n",
    "pynml.generate_plot([data_array[:, 0], data_array[:, 0]], [data_array[:, 3], data_array[:, 4]], \"current density\", labels=[\"Na\", \"K1\", \"K2\"], show_plot_already=False, save_figure_to=sim_id + \"-iden.png\", xaxis=\"time (s)\", yaxis=\"current density (A_per_m2)\")"
   ]
  },
  {
   "cell_type": "markdown",
   "metadata": {},
   "source": [
    "## Cell 2"
   ]
  },
  {
   "cell_type": "code",
   "execution_count": 9,
   "metadata": {},
   "outputs": [
    {
     "name": "stdout",
     "output_type": "stream",
     "text": [
      "pyNeuroML >>> Written LEMS Simulation hn2 to file: LEMS_hn2.xml\n",
      "pyNeuroML >>> *** Problem running command: \n",
      "pyNeuroML >>>        Command 'java -Xmx2G  -jar  \"C:\\Users\\Oced\\AppData\\Local\\Programs\\Python\\Python39\\Lib\\site-packages\\pyneuroml\\lib\\jNeuroML-0.10.3-jar-with-dependencies.jar\"  \"LEMS_hn2.xml\"  -nogui -I ''' returned non-zero exit status 1.\n",
      "pyNeuroML >>>  jNeuroML >>   jNeuroML v0.10.3\n",
      "pyNeuroML >>>  jNeuroML >>  Loading: C:\\Users\\Oced\\Documents\\GSoC\\data\\Leech-8Cell-Tutorial-NeuroML\\NeuroML2\\isolated_cells_graph\\Notebook\\LEMS_hn2.xml with jLEMS, NO GUI mode...\n",
      "pyNeuroML >>>  jNeuroML >>  INFO Aug 12,2021 16:21  (INFO) Loading LEMS file from: C:\\Users\\Oced\\Documents\\GSoC\\data\\Leech-8Cell-Tutorial-NeuroML\\NeuroML2\\isolated_cells_graph\\Notebook\\LEMS_hn2.xml\n",
      "pyNeuroML >>>  jNeuroML >>  INFO Aug 12,2021 16:21  (INFO) Reading from: C:\\Users\\Oced\\Documents\\GSoC\\data\\Leech-8Cell-Tutorial-NeuroML\\NeuroML2\\isolated_cells_graph\\Notebook\\LEMS_hn2.xml\n",
      "pyNeuroML >>>  jNeuroML >>  \n",
      "pyNeuroML >>> Error: execute_command_in_dir returned with output: None\n"
     ]
    },
    {
     "ename": "SystemExit",
     "evalue": "-1",
     "output_type": "error",
     "traceback": [
      "An exception has occurred, use %tb to see the full traceback.\n",
      "\u001b[1;31mSystemExit\u001b[0m\u001b[1;31m:\u001b[0m -1\n"
     ]
    },
    {
     "name": "stderr",
     "output_type": "stream",
     "text": [
      "c:\\users\\oced\\appdata\\local\\programs\\python\\python39\\lib\\site-packages\\IPython\\core\\interactiveshell.py:3449: UserWarning: To exit: use 'exit', 'quit', or Ctrl-D.\n",
      "  warn(\"To exit: use 'exit', 'quit', or Ctrl-D.\", stacklevel=1)\n"
     ]
    }
   ],
   "source": [
    "# Simulation bits\n",
    "sim_id = \"hn2\"\n",
    "simulation = LEMSSimulation(sim_id=sim_id, duration=1000, dt=0.01, simulation_seed=123)\n",
    "\n",
    "# Include the NeuroML model file\n",
    "simulation.include_neuroml2_file(\"../../network.iso.cell2.nml\")\n",
    "\n",
    "# Assign target for the simulation\n",
    "simulation.assign_simulation_target(\"net_1\")\n",
    "\n",
    "# Recording information from the simulation\n",
    "simulation.create_output_file(id=\"output0\", file_name=sim_id + \".dat\")\n",
    "simulation.add_column_to_output_file(\"output0\", column_id=\"v1L\", quantity=\"hn2L_pop[0]/v\")\n",
    "\n",
    "# Save LEMS simulation to file\n",
    "sim_file = simulation.save_to_file()\n",
    "\n",
    "# Run the simulation using the default jNeuroML simulator\n",
    "pynml.run_lems_with_jneuroml(sim_file, max_memory=\"2G\", nogui=True, plot=False)"
   ]
  },
  {
   "cell_type": "markdown",
   "metadata": {},
   "source": [
    "## Plot the data for Cell 1\n",
    "plots membrane potential and channel actions "
   ]
  },
  {
   "cell_type": "code",
   "execution_count": null,
   "metadata": {},
   "outputs": [],
   "source": [
    "# Plot the data\n",
    "data_array = np.loadtxt(sim_id + \".dat\")\n",
    "pynml.generate_plot([data_array[:, 0]], [data_array[:, 1]], \"Membrane potential\", show_plot_already=False, save_figure_to=sim_id + \"-v.png\", xaxis=\"time (s)\", yaxis=\"membrane potential (V)\")\n",
    "#pynml.generate_plot([data_array[:, 0]], [data_array[:, 2]], \"channel current\", show_plot_already=False, save_figure_to=sim_id + \"-i.png\", xaxis=\"time (s)\", yaxis=\"channel current (A)\")\n",
    "#pynml.generate_plot([data_array[:, 0], data_array[:, 0]], [data_array[:, 3], data_array[:, 4]], \"current density\", labels=[\"Na\", \"K1\", \"K2\"], show_plot_already=False, save_figure_to=sim_id + \"-iden.png\", xaxis=\"time (s)\", yaxis=\"current density (A_per_m2)\")"
   ]
  },
  {
   "cell_type": "markdown",
   "metadata": {},
   "source": [
    "## Cell 34"
   ]
  },
  {
   "cell_type": "code",
   "execution_count": 10,
   "metadata": {},
   "outputs": [
    {
     "name": "stdout",
     "output_type": "stream",
     "text": [
      "pyNeuroML >>> Written LEMS Simulation hn34 to file: LEMS_hn34.xml\n",
      "pyNeuroML >>> *** Problem running command: \n",
      "pyNeuroML >>>        Command 'java -Xmx2G  -jar  \"C:\\Users\\Oced\\AppData\\Local\\Programs\\Python\\Python39\\Lib\\site-packages\\pyneuroml\\lib\\jNeuroML-0.10.3-jar-with-dependencies.jar\"  \"LEMS_hn34.xml\"  -nogui -I ''' returned non-zero exit status 1.\n",
      "pyNeuroML >>>  jNeuroML >>   jNeuroML v0.10.3\n",
      "pyNeuroML >>>  jNeuroML >>  Loading: C:\\Users\\Oced\\Documents\\GSoC\\data\\Leech-8Cell-Tutorial-NeuroML\\NeuroML2\\isolated_cells_graph\\Notebook\\LEMS_hn34.xml with jLEMS, NO GUI mode...\n",
      "pyNeuroML >>>  jNeuroML >>  INFO Aug 12,2021 16:21  (INFO) Loading LEMS file from: C:\\Users\\Oced\\Documents\\GSoC\\data\\Leech-8Cell-Tutorial-NeuroML\\NeuroML2\\isolated_cells_graph\\Notebook\\LEMS_hn34.xml\n",
      "pyNeuroML >>>  jNeuroML >>  INFO Aug 12,2021 16:21  (INFO) Reading from: C:\\Users\\Oced\\Documents\\GSoC\\data\\Leech-8Cell-Tutorial-NeuroML\\NeuroML2\\isolated_cells_graph\\Notebook\\LEMS_hn34.xml\n",
      "pyNeuroML >>>  jNeuroML >>  \n",
      "pyNeuroML >>> Error: execute_command_in_dir returned with output: None\n"
     ]
    },
    {
     "ename": "SystemExit",
     "evalue": "-1",
     "output_type": "error",
     "traceback": [
      "An exception has occurred, use %tb to see the full traceback.\n",
      "\u001b[1;31mSystemExit\u001b[0m\u001b[1;31m:\u001b[0m -1\n"
     ]
    },
    {
     "name": "stderr",
     "output_type": "stream",
     "text": [
      "c:\\users\\oced\\appdata\\local\\programs\\python\\python39\\lib\\site-packages\\IPython\\core\\interactiveshell.py:3449: UserWarning: To exit: use 'exit', 'quit', or Ctrl-D.\n",
      "  warn(\"To exit: use 'exit', 'quit', or Ctrl-D.\", stacklevel=1)\n"
     ]
    }
   ],
   "source": [
    "# Simulation bits\n",
    "sim_id = \"hn34\"\n",
    "simulation = LEMSSimulation(sim_id=sim_id, duration=1000, dt=0.01, simulation_seed=123)\n",
    "\n",
    "# Include the NeuroML model file\n",
    "simulation.include_neuroml2_file(\"../../network.iso.cell1.nml\")\n",
    "\n",
    "# Assign target for the simulation\n",
    "simulation.assign_simulation_target(\"net_1\")\n",
    "\n",
    "# Recording information from the simulation\n",
    "simulation.create_output_file(id=\"output0\", file_name=sim_id + \".dat\")\n",
    "simulation.add_column_to_output_file(\"output0\", column_id=\"v1L\", quantity=\"hn3L_pop[0]/v\")\n",
    "\n",
    "# Save LEMS simulation to file\n",
    "sim_file = simulation.save_to_file()\n",
    "\n",
    "# Run the simulation using the default jNeuroML simulator\n",
    "pynml.run_lems_with_jneuroml(sim_file, max_memory=\"2G\", nogui=True, plot=False)"
   ]
  },
  {
   "cell_type": "markdown",
   "metadata": {},
   "source": [
    "## Plot the data for Cell 1\n",
    "plots membrane potential and channel actions "
   ]
  },
  {
   "cell_type": "code",
   "execution_count": null,
   "metadata": {},
   "outputs": [],
   "source": [
    "# Plot the data\n",
    "data_array = np.loadtxt(sim_id + \".dat\")\n",
    "pynml.generate_plot([data_array[:, 0]], [data_array[:, 1]], \"Membrane potential\", show_plot_already=False, save_figure_to=sim_id + \"-v.png\", xaxis=\"time (s)\", yaxis=\"membrane potential (V)\")\n",
    "#pynml.generate_plot([data_array[:, 0]], [data_array[:, 2]], \"channel current\", show_plot_already=False, save_figure_to=sim_id + \"-i.png\", xaxis=\"time (s)\", yaxis=\"channel current (A)\")\n",
    "#pynml.generate_plot([data_array[:, 0], data_array[:, 0]], [data_array[:, 3], data_array[:, 4]], \"current density\", labels=[\"Na\", \"K1\", \"K2\"], show_plot_already=False, save_figure_to=sim_id + \"-iden.png\", xaxis=\"time (s)\", yaxis=\"current density (A_per_m2)\")"
   ]
  }
 ],
 "metadata": {
  "colab": {
   "collapsed_sections": [],
   "name": "Cell 1 Isolate.ipynb",
   "provenance": [
    {
     "file_id": "https://github.com/NeuroML/Documentation/blob/master/source/Userdocs/NML2_examples/HH_single_compartment.ipynb",
     "timestamp": 1627676480450
    }
   ]
  },
  "kernelspec": {
   "display_name": "Python 3 (ipykernel)",
   "language": "python",
   "name": "python3"
  },
  "language_info": {
   "codemirror_mode": {
    "name": "ipython",
    "version": 3
   },
   "file_extension": ".py",
   "mimetype": "text/x-python",
   "name": "python",
   "nbconvert_exporter": "python",
   "pygments_lexer": "ipython3",
   "version": "3.9.5"
  }
 },
 "nbformat": 4,
 "nbformat_minor": 1
}
