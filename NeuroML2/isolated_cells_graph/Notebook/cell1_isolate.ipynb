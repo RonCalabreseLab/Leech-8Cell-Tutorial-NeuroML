{
 "cells": [
  {
   "cell_type": "markdown",
   "metadata": {
    "id": "reoR3oLGEzj-"
   },
   "source": [
    "# Interactive single compartment HH example"
   ]
  },
  {
   "cell_type": "code",
   "execution_count": 1,
   "metadata": {
    "colab": {
     "base_uri": "https://localhost:8080/",
     "height": 852
    },
    "executionInfo": {
     "elapsed": 13961,
     "status": "ok",
     "timestamp": 1628700318521,
     "user": {
      "displayName": "Cengiz Gunay",
      "photoUrl": "https://lh3.googleusercontent.com/a-/AOh14GiPE5H5Z61_cACkrHUJ9chr9XnDNRA0kluXAQmHKlg=s64",
      "userId": "04998639454012606716"
     },
     "user_tz": 240
    },
    "id": "tumYL6_3Ezj_",
    "outputId": "6a63d5a4-7bad-43a8-8d07-cea25ff99273"
   },
   "outputs": [
    {
     "name": "stdout",
     "output_type": "stream",
     "text": [
      "Defaulting to user installation because normal site-packages is not writeable\n",
      "Requirement already satisfied: pyneuroml in /usr/lib/python3.9/site-packages (0.5.11)\n",
      "Requirement already satisfied: libNeuroML>=0.2.52 in /usr/lib/python3.9/site-packages (from pyneuroml) (0.2.55)\n",
      "Requirement already satisfied: neuromllite>=0.2.2 in /usr/lib/python3.9/site-packages (from pyneuroml) (0.3.2)\n",
      "Requirement already satisfied: graphviz in /usr/lib/python3.9/site-packages (from pyneuroml) (0.17)\n",
      "Requirement already satisfied: matplotlib in /usr/lib/python3.9/site-packages (from pyneuroml) (3.4.1)\n",
      "Requirement already satisfied: airspeed>=0.5.5 in /usr/lib/python3.9/site-packages (from pyneuroml) (0.5.17)\n",
      "Requirement already satisfied: pylems>=0.5.0 in /usr/lib/python3.9/site-packages (from pyneuroml) (0.5.5)\n",
      "Requirement already satisfied: cachetools in /usr/lib/python3.9/site-packages (from airspeed>=0.5.5->pyneuroml) (4.2.2)\n",
      "Requirement already satisfied: six in /usr/lib/python3.9/site-packages (from airspeed>=0.5.5->pyneuroml) (1.16.0)\n",
      "Collecting argparse\n",
      "  Downloading argparse-1.4.0-py2.py3-none-any.whl (23 kB)\n",
      "Requirement already satisfied: lxml in /usr/lib/python3.9/site-packages (from libNeuroML>=0.2.52->pyneuroml) (4.6.3)\n",
      "Requirement already satisfied: six in /usr/lib/python3.9/site-packages (from airspeed>=0.5.5->pyneuroml) (1.16.0)\n",
      "Requirement already satisfied: cycler>=0.10 in /usr/lib/python3.9/site-packages (from matplotlib->pyneuroml) (0.10.0)\n",
      "Requirement already satisfied: kiwisolver>=1.0.1 in /usr/lib/python3.9/site-packages (from matplotlib->pyneuroml) (1.3.1)\n",
      "Requirement already satisfied: numpy>=1.16 in /usr/lib/python3.9/site-packages (from matplotlib->pyneuroml) (1.20.3)\n",
      "Requirement already satisfied: pillow>=6.2.0 in /usr/lib/python3.9/site-packages (from matplotlib->pyneuroml) (8.2.0)\n",
      "Requirement already satisfied: pyparsing>=2.2.1 in /usr/lib/python3.9/site-packages (from matplotlib->pyneuroml) (2.4.7)\n",
      "Requirement already satisfied: python-dateutil>=2.7 in /usr/lib/python3.9/site-packages (from matplotlib->pyneuroml) (2.8.1)\n",
      "Requirement already satisfied: six in /usr/lib/python3.9/site-packages (from airspeed>=0.5.5->pyneuroml) (1.16.0)\n",
      "Requirement already satisfied: pyyaml in /usr/lib/python3.9/site-packages (from neuromllite>=0.2.2->pyneuroml) (5.4.1)\n",
      "Requirement already satisfied: numpy>=1.16 in /usr/lib/python3.9/site-packages (from matplotlib->pyneuroml) (1.20.3)\n",
      "Requirement already satisfied: libNeuroML>=0.2.52 in /usr/lib/python3.9/site-packages (from pyneuroml) (0.2.55)\n",
      "Requirement already satisfied: typing in /usr/lib/python3.9/site-packages (from pylems>=0.5.0->pyneuroml) (3.7.4.3)\n",
      "Requirement already satisfied: lxml in /usr/lib/python3.9/site-packages (from libNeuroML>=0.2.52->pyneuroml) (4.6.3)\n",
      "Requirement already satisfied: six in /usr/lib/python3.9/site-packages (from airspeed>=0.5.5->pyneuroml) (1.16.0)\n",
      "Installing collected packages: argparse\n",
      "Successfully installed argparse-1.4.0\n",
      "Defaulting to user installation because normal site-packages is not writeable\n",
      "Requirement already satisfied: libneuroml in /usr/lib/python3.9/site-packages (0.2.55)\n",
      "Requirement already satisfied: lxml in /usr/lib/python3.9/site-packages (from libneuroml) (4.6.3)\n",
      "Requirement already satisfied: six in /usr/lib/python3.9/site-packages (from libneuroml) (1.16.0)\n"
     ]
    }
   ],
   "source": [
    "!pip install pyneuroml\n",
    "!pip install libneuroml\n",
    "import math\n",
    "from neuroml import NeuroMLDocument\n",
    "from neuroml import Cell\n",
    "from neuroml import IonChannelHH\n",
    "from neuroml import GateHHRates\n",
    "from neuroml import BiophysicalProperties\n",
    "from neuroml import MembraneProperties\n",
    "from neuroml import ChannelDensity\n",
    "from neuroml import HHRate\n",
    "from neuroml import SpikeThresh\n",
    "from neuroml import SpecificCapacitance\n",
    "from neuroml import InitMembPotential\n",
    "from neuroml import IntracellularProperties\n",
    "from neuroml import IncludeType\n",
    "from neuroml import Resistivity\n",
    "from neuroml import Morphology, Segment, Point3DWithDiam\n",
    "from neuroml import Network, Population\n",
    "from neuroml import PulseGenerator, ExplicitInput\n",
    "import numpy as np\n",
    "from pyneuroml import pynml\n",
    "from pyneuroml.lems import LEMSSimulation"
   ]
  },
  {
   "cell_type": "markdown",
   "metadata": {
    "id": "03udiTGcEzkE"
   },
   "source": [
    "## Plot the data we record"
   ]
  },
  {
   "cell_type": "markdown",
   "metadata": {
    "id": "6n_-S-HOEzkF"
   },
   "source": [
    "## Create and run the simulation\n",
    "\n",
    "Create the simulation, run it, record data, and plot the recorded information."
   ]
  },
  {
   "cell_type": "code",
   "execution_count": 10,
   "metadata": {
    "colab": {
     "base_uri": "https://localhost:8080/",
     "height": 1000
    },
    "executionInfo": {
     "elapsed": 670,
     "status": "error",
     "timestamp": 1628130917082,
     "user": {
      "displayName": "Psyogi Soma",
      "photoUrl": "https://lh3.googleusercontent.com/a-/AOh14GihHp5etl6xiuwyfZ4fKVV7hcr-YYivwPoTQzza=s64",
      "userId": "01061314343285723513"
     },
     "user_tz": 240
    },
    "id": "N-T_-fxHEzkF",
    "outputId": "9c943c05-4895-4bf1-f6a7-cb3b2b61176e"
   },
   "outputs": [
    {
     "name": "stderr",
     "output_type": "stream",
     "text": [
      "/usr/lib/python3.9/site-packages/ipykernel/ipkernel.py:283: DeprecationWarning: `should_run_async` will not call `transform_cell` automatically in the future. Please pass the result to `transformed_cell` argument and any exception that happen during thetransform in `preprocessing_exc_tuple` in IPython 7.17 and above.\n",
      "  and should_run_async(code)\n"
     ]
    },
    {
     "name": "stdout",
     "output_type": "stream",
     "text": [
      "pyNeuroML >>> Written LEMS Simulation hn1 to file: LEMS_hn1.xml\n"
     ]
    },
    {
     "data": {
      "text/plain": [
       "True"
      ]
     },
     "execution_count": 10,
     "metadata": {},
     "output_type": "execute_result"
    }
   ],
   "source": [
    "from xml.dom import minidom\n",
    "\n",
    "# Simulation bits\n",
    "sim_id = \"hn1\"\n",
    "simulation = LEMSSimulation(sim_id=sim_id, duration=20000, dt=0.01, simulation_seed=123)\n",
    "# Include the NeuroML model file\n",
    "simulation.include_neuroml2_file(\"../../network.iso.cell1.nml\")\n",
    "#simulation.include_neuroml2_file(\"cell.1.nml\")\n",
    "#simulation.include_neuroml2_file(\"k1.channel.nml\")\n",
    "#simulation.include_neuroml2_file(\"k2.channel.nml\")\n",
    "#simulation.include_neuroml2_file(\"na.channel.nml\")\n",
    "#simulation.include_neuroml2_file(\"passive.channel.nml\")\n",
    "#simulation.include_neuroml2_file(\"sigmoid.offset.xml\")\n",
    "\n",
    "# Assign target for the simulation\n",
    "simulation.assign_simulation_target(\"net_1\")\n",
    "\n",
    "# Recording information from the simulation\n",
    "simulation.create_output_file(id=\"output0\", file_name=sim_id + \".dat\")#timeScale=\"1ms\", xmin=\"0\", xmax=\"20000\", ymin=\"-70\", ymax=\"0\")\n",
    "simulation.add_column_to_output_file(\"output0\", column_id=\"v1L\", quantity=\"hn1L_pop[0]/v\") #scale=\"1mV\", timeScale=\"1ms\")\n",
    "\n",
    "# Save LEMS simulation to file\n",
    "sim_file = simulation.save_to_file()\n",
    "\n",
    "#mydoc = minidom.parse('run_1cells_Vm_cell1.xml')\n",
    "\n",
    "# Run the simulation using the default jNeuroML simulator\n",
    "pynml.run_lems_with_jneuroml(sim_file, max_memory=\"2G\", nogui=True, plot=False)"
   ]
  },
  {
   "cell_type": "code",
   "execution_count": 11,
   "metadata": {},
   "outputs": [
    {
     "name": "stderr",
     "output_type": "stream",
     "text": [
      "/usr/lib/python3.9/site-packages/ipykernel/ipkernel.py:283: DeprecationWarning: `should_run_async` will not call `transform_cell` automatically in the future. Please pass the result to `transformed_cell` argument and any exception that happen during thetransform in `preprocessing_exc_tuple` in IPython 7.17 and above.\n",
      "  and should_run_async(code)\n"
     ]
    },
    {
     "name": "stdout",
     "output_type": "stream",
     "text": [
      "pyNeuroML >>> Generating plot: Membrane potential\n"
     ]
    },
    {
     "name": "stderr",
     "output_type": "stream",
     "text": [
      "/usr/lib/python3.9/site-packages/pyneuroml/pynml.py:1693: MatplotlibDeprecationWarning: \n",
      "The set_window_title function was deprecated in Matplotlib 3.4 and will be removed two minor releases later. Use manager.set_window_title or GUI-specific methods instead.\n",
      "  fig.canvas.set_window_title(title)\n",
      "/usr/lib/python3.9/site-packages/pyneuroml/pynml.py:1732: UserWarning: marker is redundantly defined by the 'marker' keyword argument and the fmt string \"o\" (-> marker='o'). The keyword argument will take precedence.\n",
      "  plt.plot(xvalues[i], yvalues[i], 'o', marker=marker, markersize=markersize, linestyle=linestyle, linewidth=linewidth, label=label)\n"
     ]
    },
    {
     "name": "stdout",
     "output_type": "stream",
     "text": [
      "pyNeuroML >>> Saved image to hn1-v.png of plot: Membrane potential\n"
     ]
    },
    {
     "data": {
      "text/plain": [
       "<AxesSubplot:xlabel='time (s)', ylabel='membrane potential (V)'>"
      ]
     },
     "execution_count": 11,
     "metadata": {},
     "output_type": "execute_result"
    },
    {
     "data": {
      "image/png": "[encoded data removed]",
      "text/plain": [
       "<Figure size 432x288 with 1 Axes>"
      ]
     },
     "metadata": {
      "needs_background": "light"
     },
     "output_type": "display_data"
    }
   ],
   "source": [
    "# Plot the data\n",
    "data_array = np.loadtxt(sim_id + \".dat\")\n",
    "pynml.generate_plot([data_array[:, 0]], [data_array[:, 1]], \"Membrane potential\", show_plot_already=False, save_figure_to=sim_id + \"-v.png\", xaxis=\"time (s)\", yaxis=\"membrane potential (V)\")\n",
    "#pynml.generate_plot([data_array[:, 0]], [data_array[:, 2]], \"channel current\", show_plot_already=False, save_figure_to=sim_id + \"-i.png\", xaxis=\"time (s)\", yaxis=\"channel current (A)\")\n",
    "#pynml.generate_plot([data_array[:, 0], data_array[:, 0]], [data_array[:, 3], data_array[:, 4]], \"current density\", labels=[\"Na\", \"K1\", \"K2\"], show_plot_already=False, save_figure_to=sim_id + \"-iden.png\", xaxis=\"time (s)\", yaxis=\"current density (A_per_m2)\")"
   ]
  }
 ],
 "metadata": {
  "colab": {
   "collapsed_sections": [],
   "name": "Cell 1 Isolate.ipynb",
   "provenance": [
    {
     "file_id": "https://github.com/NeuroML/Documentation/blob/master/source/Userdocs/NML2_examples/HH_single_compartment.ipynb",
     "timestamp": 1627676480450
    }
   ]
  },
  "kernelspec": {
   "display_name": "Python 3",
   "language": "python",
   "name": "python3"
  },
  "language_info": {
   "codemirror_mode": {
    "name": "ipython",
    "version": 3
   },
   "file_extension": ".py",
   "mimetype": "text/x-python",
   "name": "python",
   "nbconvert_exporter": "python",
   "pygments_lexer": "ipython3",
   "version": "3.9.5"
  }
 },
 "nbformat": 4,
 "nbformat_minor": 1
}
